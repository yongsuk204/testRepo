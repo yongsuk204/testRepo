{
 "cells": [
  {
   "cell_type": "code",
   "execution_count": 1,
   "metadata": {},
   "outputs": [
    {
     "name": "stdout",
     "output_type": "stream",
     "text": [
      "hello\n"
     ]
    }
   ],
   "source": [
    "print('오늘은 통합개발환경을 구축하는 방법에 대해서 배웠습니다.')"
   ]
  },
  {
   "cell_type": "code",
   "execution_count": 2,
   "metadata": {},
   "outputs": [
    {
     "name": "stdout",
     "output_type": "stream",
     "text": [
      "먼저 웹에 클라우드로 github를 구축하는방법을 배웠습니다.\n"
     ]
    }
   ],
   "source": [
    "print('먼저 웹에 클라우드로 github를 구축하는방법을 배웠습니다.')"
   ]
  },
  {
   "cell_type": "code",
   "execution_count": 3,
   "metadata": {},
   "outputs": [
    {
     "name": "stdout",
     "output_type": "stream",
     "text": [
      "그다음 로컬에 git을 설치해서 웹과 로컬간 연결을 배웠습니다\n"
     ]
    }
   ],
   "source": [
    "print('그다음 로컬에 git을 설치해서 웹과 로컬간 연결을 배웠습니다')"
   ]
  },
  {
   "cell_type": "code",
   "execution_count": null,
   "metadata": {},
   "outputs": [],
   "source": [
    "print('마지막으로 로컬에 비주얼 스튜디오 코드를 설치하여 깃허브와 연결하였습니다다')"
   ]
  },
  {
   "cell_type": "code",
   "execution_count": 4,
   "metadata": {},
   "outputs": [
    {
     "name": "stdout",
     "output_type": "stream",
     "text": [
      "통합개발환경을 구축하였으니 다음수업부터 배울 내용들이 기대됩니다\n"
     ]
    }
   ],
   "source": [
    "print('통합개발환경을 구축하였으니 다음수업부터 배울 내용들이 기대됩니다')"
   ]
  },
  {
   "cell_type": "code",
   "execution_count": 2,
   "metadata": {},
   "outputs": [
    {
     "name": "stdout",
     "output_type": "stream",
     "text": [
      "i added this word\n"
     ]
    }
   ],
   "source": [
    "print('i added this word')"
   ]
  }
 ],
 "metadata": {
  "kernelspec": {
   "display_name": "Python 3",
   "language": "python",
   "name": "python3"
  },
  "language_info": {
   "codemirror_mode": {
    "name": "ipython",
    "version": 3
   },
   "file_extension": ".py",
   "mimetype": "text/x-python",
   "name": "python",
   "nbconvert_exporter": "python",
   "pygments_lexer": "ipython3",
   "version": "3.13.1"
  }
 },
 "nbformat": 4,
 "nbformat_minor": 2
}
